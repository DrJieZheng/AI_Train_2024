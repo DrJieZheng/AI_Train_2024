{
 "cells": [
  {
   "cell_type": "markdown",
   "id": "b1da1168-e86a-486e-9098-0bda51822940",
   "metadata": {},
   "source": [
    "模型来自百度搜索自动生成的结果\n",
    "\n",
    "https://www.baidu.com/s?ie=utf-8&f=8&rsv_bp=1&tn=baidu&wd=tensorflow%20%E5%85%89%E8%B0%B1%E5%88%86%E7%B1%BB&rn=20&oq=tensorflow%25E5%2592%258Cpytorch%25E5%2593%25AA%25E4%25B8%25AA%25E5%25A5%25BD&rsv_pq=ed842ba900410f29&rsv_t=97f1EiiG4GbyTHFucBBj6cK2ONxcudncNcI4%2B0NiHMnjJreOiUR6KhU9lQI&rqlang=cn&rsv_dl=tb&rsv_enter=1&rsv_btype=t&inputT=2430&rsv_sug3=45&rsv_sug2=0&prefixsug=tensorflow%2520%25E5%2585%2589%25E8%25B0%25B1%25E5%2588%2586%25E7%25B1%25BB&rsp=0&rsv_sug4=2509"
   ]
  },
  {
   "cell_type": "code",
   "execution_count": 1,
   "id": "0c6715fc-5e5a-45bc-9446-702b22afa9ae",
   "metadata": {},
   "outputs": [],
   "source": [
    "# 导入常规包\n",
    "import numpy as np\n",
    "from astropy.io import fits\n",
    "import matplotlib.pyplot as plt"
   ]
  },
  {
   "cell_type": "code",
   "execution_count": 2,
   "id": "f06ea202-a054-459f-b423-028b21b4ce58",
   "metadata": {},
   "outputs": [
    {
     "name": "stderr",
     "output_type": "stream",
     "text": [
      "2024-05-07 18:45:00.847476: I tensorflow/tsl/cuda/cudart_stub.cc:28] Could not find cuda drivers on your machine, GPU will not be used.\n",
      "2024-05-07 18:45:00.898507: I tensorflow/tsl/cuda/cudart_stub.cc:28] Could not find cuda drivers on your machine, GPU will not be used.\n",
      "2024-05-07 18:45:00.899555: I tensorflow/core/platform/cpu_feature_guard.cc:182] This TensorFlow binary is optimized to use available CPU instructions in performance-critical operations.\n",
      "To enable the following instructions: AVX2 FMA, in other operations, rebuild TensorFlow with the appropriate compiler flags.\n",
      "2024-05-07 18:45:01.531306: W tensorflow/compiler/tf2tensorrt/utils/py_utils.cc:38] TF-TRT Warning: Could not find TensorRT\n"
     ]
    }
   ],
   "source": [
    "# 加载CNN相关库\n",
    "from tensorflow.keras.layers import Flatten, Dense, Conv1D, MaxPool1D, Dropout\n",
    "import tensorflow as tf"
   ]
  },
  {
   "cell_type": "code",
   "execution_count": 11,
   "id": "49dd4b8c-b9d0-4180-8f0c-d6898f64d6c0",
   "metadata": {},
   "outputs": [],
   "source": [
    "from sklearn.model_selection import train_test_split"
   ]
  },
  {
   "cell_type": "code",
   "execution_count": 3,
   "id": "684d7d1f-3940-4bd8-be24-738d306a159b",
   "metadata": {},
   "outputs": [],
   "source": [
    "# 加载所有文件，使用生成式加载，最后得到的是 10x(10000x3000)的数组的列表\n",
    "ori_data_l = [fits.getdata(f'train_data_{i+1:02d}.fits', 0) for i in range(10)]\n",
    "labels_l = [fits.getdata(f'train_data_{i+1:02d}.fits', 1)[\"label\"] for i in range(10)]"
   ]
  },
  {
   "cell_type": "code",
   "execution_count": 4,
   "id": "6acda4fa-7f3c-4f08-85fa-94f0cf2d4476",
   "metadata": {},
   "outputs": [
    {
     "data": {
      "text/plain": [
       "((100000, 3000), (100000,))"
      ]
     },
     "execution_count": 4,
     "metadata": {},
     "output_type": "execute_result"
    }
   ],
   "source": [
    "# 把数据串起来，注意方向\n",
    "ori_data = np.vstack(ori_data_l)\n",
    "labels = np.hstack(labels_l)\n",
    "ori_data.shape, labels.shape"
   ]
  },
  {
   "cell_type": "code",
   "execution_count": 5,
   "id": "cf19c8e5-b757-468d-a63d-36be66e71440",
   "metadata": {},
   "outputs": [
    {
     "data": {
      "text/plain": [
       "(array([0, 1, 2]), 3427, 1011, 95562)"
      ]
     },
     "execution_count": 5,
     "metadata": {},
     "output_type": "execute_result"
    }
   ],
   "source": [
    "# 确认一下是有三种类型，以及每个类型有几条光谱\n",
    "np.unique(labels), np.sum(labels==0), np.sum(labels==1), np.sum(labels==2)"
   ]
  },
  {
   "cell_type": "code",
   "execution_count": 6,
   "id": "c15436d8-0401-48c6-9dd7-f83a664440a3",
   "metadata": {},
   "outputs": [],
   "source": [
    "# 计算每颗星的最大值最小值，用于归一化\n",
    "ori_max = np.max(ori_data, axis=1)\n",
    "ori_min = np.min(ori_data, axis=1)"
   ]
  },
  {
   "cell_type": "code",
   "execution_count": 7,
   "id": "fe032c17-c6a5-43db-bf73-854ae6fe809a",
   "metadata": {},
   "outputs": [],
   "source": [
    "# 归一化。为避免出现0，干脆直接除以最大值\n",
    "uni_data = np.empty_like(ori_data)\n",
    "for i in range(ori_data.shape[0]):\n",
    "    uni_data[i] = ori_data[i] / ori_max[i]"
   ]
  },
  {
   "cell_type": "code",
   "execution_count": 12,
   "id": "2adb675e-8de9-469c-9cac-c14603b4aa39",
   "metadata": {},
   "outputs": [],
   "source": [
    "# 数据集合进行数组格式变换，变成(样本数，样本大小，1)，也就是(100000, 3000, 1)，强行给加一个维度\n",
    "# 好像还有一个函数去增加一个维度，看到忘记了\n",
    "sample_data = uni_data.reshape(uni_data.shape[0], ori_data.shape[1], 1)"
   ]
  },
  {
   "cell_type": "code",
   "execution_count": 9,
   "id": "f7414191-657a-4d3a-855a-efbe7bd2dee0",
   "metadata": {},
   "outputs": [],
   "source": [
    "# 按照网页给的，创建线性模型\n",
    "model = tf.keras.Sequential([\n",
    "    tf.keras.layers.Flatten(input_shape=(sample_train.shape[1],)),\n",
    "    tf.keras.layers.Dense(64, activation='relu'),\n",
    "    tf.keras.layers.Dense(3, activation='softmax')\n",
    "])"
   ]
  },
  {
   "cell_type": "code",
   "execution_count": 10,
   "id": "4968addb-3ea6-46d6-a70d-05d15c3b8a4f",
   "metadata": {},
   "outputs": [],
   "source": [
    "# 编译模型\n",
    "model.compile(optimizer='adam',\n",
    "              loss='sparse_categorical_crossentropy',\n",
    "              metrics=['accuracy'])"
   ]
  },
  {
   "cell_type": "code",
   "execution_count": 13,
   "id": "c465747d-9fd1-464d-a5cb-622f36a45196",
   "metadata": {},
   "outputs": [],
   "source": [
    "# 拆分训练集和测试集\n",
    "train_idx, test_idx = train_test_split(np.arange(labels.shape[0]), test_size=0.1)\n",
    "train_data, train_labels = sample_data[train_idx], labels[train_idx]\n",
    "test_data , test_labels  = sample_data[test_idx ], labels[test_idx ]"
   ]
  },
  {
   "cell_type": "code",
   "execution_count": 14,
   "id": "8ff3b715-fcf9-4586-9f9c-6eb5dc8f0528",
   "metadata": {},
   "outputs": [
    {
     "name": "stdout",
     "output_type": "stream",
     "text": [
      "Epoch 1/10\n",
      "200/200 [==============================] - 1s 5ms/step - loss: 0.1911 - accuracy: 0.9541\n",
      "Epoch 2/10\n",
      "200/200 [==============================] - 1s 4ms/step - loss: 0.0754 - accuracy: 0.9780\n",
      "Epoch 3/10\n",
      "200/200 [==============================] - 1s 4ms/step - loss: 0.0447 - accuracy: 0.9851\n",
      "Epoch 4/10\n",
      "200/200 [==============================] - 1s 4ms/step - loss: 0.0360 - accuracy: 0.9876\n",
      "Epoch 5/10\n",
      "200/200 [==============================] - 1s 4ms/step - loss: 0.0302 - accuracy: 0.9897\n",
      "Epoch 6/10\n",
      "200/200 [==============================] - 1s 6ms/step - loss: 0.0275 - accuracy: 0.9909\n",
      "Epoch 7/10\n",
      "200/200 [==============================] - 1s 5ms/step - loss: 0.0251 - accuracy: 0.9918\n",
      "Epoch 8/10\n",
      "200/200 [==============================] - 1s 4ms/step - loss: 0.0240 - accuracy: 0.9922\n",
      "Epoch 9/10\n",
      "200/200 [==============================] - 1s 5ms/step - loss: 0.0241 - accuracy: 0.9923\n",
      "Epoch 10/10\n",
      "200/200 [==============================] - 1s 4ms/step - loss: 0.0219 - accuracy: 0.9932\n",
      "CPU times: user 1min 57s, sys: 36.2 s, total: 2min 33s\n",
      "Wall time: 10.3 s\n"
     ]
    },
    {
     "data": {
      "text/plain": [
       "<keras.callbacks.History at 0x7f3b502c7640>"
      ]
     },
     "execution_count": 14,
     "metadata": {},
     "output_type": "execute_result"
    }
   ],
   "source": [
    "%%time\n",
    "# 训练模型\n",
    "model.fit(sample_train, labels, epochs=10, batch_size = 500,)"
   ]
  },
  {
   "cell_type": "code",
   "execution_count": 16,
   "id": "944e3d26-4aaa-4451-b062-cfbe56d354c6",
   "metadata": {},
   "outputs": [
    {
     "name": "stdout",
     "output_type": "stream",
     "text": [
      "313/313 [==============================] - 0s 1ms/step - loss: 0.0194 - accuracy: 0.9941\n",
      "0.019400639459490776 0.9940999746322632\n",
      "CPU times: user 1.06 s, sys: 572 ms, total: 1.63 s\n",
      "Wall time: 645 ms\n"
     ]
    }
   ],
   "source": [
    "%%time\n",
    "# 评估数据，就是用测试集\n",
    "loss, accuracy = model.evaluate(test_data , test_labels)\n",
    "print(loss, accuracy)"
   ]
  },
  {
   "cell_type": "code",
   "execution_count": 19,
   "id": "938fd9c5-ccc9-4a15-ad57-b3723780caf1",
   "metadata": {},
   "outputs": [
    {
     "data": {
      "text/plain": [
       "(1000, 3000, 1)"
      ]
     },
     "execution_count": 19,
     "metadata": {},
     "output_type": "execute_result"
    }
   ],
   "source": [
    "# 读取测试数据，并且进行归一化、扩维\n",
    "hdutest = fits.open('test_data.fits')\n",
    "exam_data_0 = hdutest[0].data\n",
    "exam_max = np.max(exam_data_0, axis=1)\n",
    "exam_min = np.min(exam_data_0, axis=1)\n",
    "exam_data = np.empty((*exam_data_0.shape, 1))\n",
    "for i in range(exam_data_0.shape[0]):\n",
    "    exam_data[i, :, 0] = exam_data_0[i] / exam_max[i]\n",
    "exam_data.shape"
   ]
  },
  {
   "cell_type": "code",
   "execution_count": 20,
   "id": "d396e54c-9ffb-4594-a01e-860666666691",
   "metadata": {},
   "outputs": [
    {
     "name": "stdout",
     "output_type": "stream",
     "text": [
      "32/32 [==============================] - 0s 929us/step\n",
      "CPU times: user 423 ms, sys: 186 ms, total: 609 ms\n",
      "Wall time: 230 ms\n"
     ]
    }
   ],
   "source": [
    "%%time\n",
    "# 对测试数据进行分类\n",
    "exam_labels = model.predict(exam_data)"
   ]
  },
  {
   "cell_type": "code",
   "execution_count": 21,
   "id": "3652d891-f7b0-453b-8974-50c9c853abc0",
   "metadata": {},
   "outputs": [
    {
     "data": {
      "text/plain": [
       "array([[3.9116559e-05, 1.6757808e-06, 9.9995917e-01],\n",
       "       [3.3664129e-08, 4.2027004e-09, 9.9999994e-01],\n",
       "       [4.1923301e-10, 8.5738708e-12, 9.9999994e-01],\n",
       "       ...,\n",
       "       [4.9940649e-05, 7.0903488e-06, 9.9994296e-01],\n",
       "       [3.5964746e-02, 3.1042736e-02, 9.3299246e-01],\n",
       "       [4.4519785e-03, 2.7942962e-03, 9.9275374e-01]], dtype=float32)"
      ]
     },
     "execution_count": 21,
     "metadata": {},
     "output_type": "execute_result"
    }
   ],
   "source": [
    "exam_labels"
   ]
  },
  {
   "cell_type": "code",
   "execution_count": 22,
   "id": "476ca606-3ec6-4197-978f-85c36bfe3120",
   "metadata": {},
   "outputs": [],
   "source": [
    "# 从分类概率矩阵中选出每颗星最大可能性的编号\n",
    "exam_class = np.argmax(exam_labels, axis=1)"
   ]
  },
  {
   "cell_type": "code",
   "execution_count": 24,
   "id": "50ef7f3e-2d77-49d7-8bef-8dc31cde15be",
   "metadata": {},
   "outputs": [
    {
     "data": {
      "text/plain": [
       "array([2, 2, 2, 2, 2, 2, 2, 2, 2, 2, 0, 2, 2, 0, 2, 0, 0, 0, 0, 2, 2, 2,\n",
       "       2, 2, 2, 0, 2, 1, 2, 2, 2, 2, 2, 1, 2, 2, 2, 0, 2, 2, 0, 2, 2, 1,\n",
       "       2, 2, 2, 2, 2, 2, 2, 2, 2, 2, 2, 0, 2, 2, 2, 0, 2, 0, 2, 2, 2, 2,\n",
       "       2, 0, 2, 2, 2, 2, 2, 2, 0, 2, 2, 2, 2, 2, 2, 2, 2, 2, 0, 2, 2, 2,\n",
       "       2, 2, 2, 2, 2, 0, 2, 2, 2, 0, 2, 2, 2, 2, 2, 2, 2, 2, 0, 2, 0, 2,\n",
       "       2, 0, 0, 2, 2, 2, 2, 2, 0, 2, 2, 2, 0, 2, 2, 2, 2, 0, 2, 2, 1, 1,\n",
       "       2, 2, 2, 2, 2, 2, 2, 0, 2, 2, 2, 2, 0, 2, 2, 2, 2, 0, 0, 2, 2, 2,\n",
       "       2, 2, 2, 2, 2, 0, 2, 2, 0, 2, 2, 0, 0, 0, 2, 2, 0, 2, 2, 2, 2, 0,\n",
       "       2, 2, 2, 2, 0, 2, 2, 2, 0, 2, 2, 2, 0, 2, 2, 2, 2, 0, 2, 2, 2, 2,\n",
       "       0, 2, 2, 2, 2, 2, 2, 2, 2, 1, 2, 2, 1, 2, 2, 2, 0, 2, 2, 2, 0, 2,\n",
       "       0, 2, 2, 2, 2, 0, 0, 2, 2, 0, 2, 0, 2, 2, 2, 2, 0, 2, 2, 2, 2, 2,\n",
       "       0, 2, 2, 1, 0, 2, 2, 2, 0, 2, 2, 0, 2, 2, 2, 0, 2, 2, 2, 2, 2, 1,\n",
       "       2, 2, 0, 2, 2, 0, 2, 2, 0, 2, 2, 2, 2, 1, 2, 0, 2, 2, 2, 0, 2, 2,\n",
       "       2, 2, 2, 2, 2, 0, 0, 0, 2, 1, 2, 2, 0, 2, 0, 2, 2, 2, 0, 2, 0, 2,\n",
       "       2, 0, 2, 2, 2, 2, 2, 2, 2, 2, 1, 2, 2, 2, 2, 2, 2, 2, 2, 0, 2, 2,\n",
       "       2, 2, 0, 1, 2, 0, 2, 2, 2, 2, 0, 2, 2, 0, 2, 2, 0, 2, 2, 2, 2, 0,\n",
       "       2, 2, 2, 2, 2, 0, 2, 2, 2, 2, 2, 2, 2, 2, 2, 0, 2, 2, 2, 2, 2, 0,\n",
       "       0, 2, 2, 2, 2, 2, 0, 2, 2, 2, 0, 2, 2, 0, 2, 2, 2, 2, 0, 0, 2, 2,\n",
       "       2, 0, 2, 2, 2, 2, 2, 2, 2, 0, 2, 0, 0, 2, 2, 0, 2, 2, 2, 2, 2, 2,\n",
       "       2, 2, 2, 2, 2, 0, 2, 2, 2, 2, 2, 2, 2, 0, 2, 0, 0, 2, 0, 2, 2, 2,\n",
       "       2, 0, 2, 2, 2, 2, 0, 2, 2, 2, 2, 0, 2, 2, 0, 2, 2, 2, 2, 2, 2, 2,\n",
       "       0, 2, 2, 0, 2, 2, 2, 2, 2, 2, 0, 2, 2, 2, 2, 2, 2, 2, 2, 0, 2, 2,\n",
       "       2, 2, 2, 2, 2, 2, 0, 2, 2, 2, 0, 2, 2, 2, 1, 2, 2, 0, 2, 2, 2, 2,\n",
       "       2, 2, 2, 2, 2, 0, 2, 2, 2, 2, 2, 2, 0, 2, 2, 2, 2, 2, 2, 2, 2, 2,\n",
       "       0, 2, 2, 0, 2, 2, 2, 2, 0, 2, 2, 2, 2, 2, 2, 2, 2, 2, 0, 2, 0, 2,\n",
       "       2, 2, 0, 2, 0, 0, 2, 2, 2, 0, 0, 2, 0, 2, 1, 2, 0, 2, 1, 2, 2, 2,\n",
       "       2, 2, 2, 0, 2, 2, 0, 0, 2, 2, 2, 0, 2, 2, 1, 2, 0, 2, 2, 2, 2, 2,\n",
       "       0, 2, 2, 2, 2, 0, 2, 0, 2, 2, 2, 2, 2, 2, 0, 2, 2, 2, 2, 0, 0, 2,\n",
       "       2, 2, 2, 2, 2, 2, 2, 2, 2, 2, 2, 2, 0, 2, 2, 2, 2, 2, 2, 2, 2, 2,\n",
       "       2, 0, 2, 2, 2, 2, 2, 2, 0, 2, 2, 2, 0, 0, 2, 2, 2, 2, 2, 2, 2, 2,\n",
       "       2, 2, 0, 0, 2, 2, 2, 2, 0, 2, 2, 2, 2, 2, 0, 2, 2, 2, 2, 2, 0, 2,\n",
       "       0, 2, 2, 2, 2, 0, 2, 0, 0, 2, 2, 2, 2, 2, 0, 0, 0, 0, 2, 0, 2, 2,\n",
       "       2, 2, 0, 2, 2, 2, 2, 2, 2, 0, 2, 2, 2, 2, 2, 0, 2, 2, 2, 2, 2, 2,\n",
       "       0, 2, 2, 2, 0, 2, 2, 2, 2, 0, 2, 2, 0, 2, 1, 2, 2, 2, 2, 2, 2, 2,\n",
       "       0, 2, 2, 2, 2, 2, 2, 0, 2, 0, 0, 2, 2, 0, 0, 0, 2, 2, 2, 0, 2, 2,\n",
       "       2, 2, 2, 2, 0, 2, 2, 2, 2, 0, 2, 2, 0, 2, 2, 2, 0, 2, 2, 2, 2, 2,\n",
       "       0, 2, 2, 0, 2, 2, 2, 0, 2, 2, 2, 2, 2, 2, 1, 2, 2, 2, 2, 2, 2, 0,\n",
       "       2, 2, 2, 2, 0, 2, 0, 2, 2, 2, 2, 2, 1, 2, 0, 2, 2, 2, 2, 2, 0, 0,\n",
       "       2, 2, 2, 0, 2, 2, 0, 2, 2, 2, 2, 2, 2, 2, 2, 2, 0, 2, 0, 0, 2, 2,\n",
       "       2, 1, 0, 2, 0, 2, 2, 2, 0, 2, 2, 2, 2, 0, 1, 2, 0, 2, 2, 0, 2, 2,\n",
       "       2, 0, 2, 2, 2, 0, 2, 2, 2, 1, 2, 0, 2, 2, 2, 2, 2, 0, 1, 2, 2, 2,\n",
       "       0, 0, 0, 2, 0, 0, 2, 0, 2, 0, 2, 2, 0, 2, 2, 2, 2, 0, 2, 2, 2, 0,\n",
       "       2, 2, 2, 1, 2, 2, 2, 2, 1, 2, 0, 0, 1, 2, 2, 2, 0, 2, 2, 1, 2, 0,\n",
       "       2, 1, 2, 0, 0, 0, 1, 2, 0, 2, 0, 2, 2, 2, 2, 2, 2, 2, 2, 2, 2, 0,\n",
       "       2, 2, 0, 0, 2, 2, 2, 0, 2, 2, 2, 2, 2, 2, 0, 2, 2, 2, 2, 2, 2, 2,\n",
       "       2, 0, 2, 0, 2, 2, 2, 2, 2, 2])"
      ]
     },
     "execution_count": 24,
     "metadata": {},
     "output_type": "execute_result"
    }
   ],
   "source": [
    "exam_class"
   ]
  },
  {
   "cell_type": "code",
   "execution_count": null,
   "id": "d01ea250-1bbd-4227-aae1-b1029f70ca20",
   "metadata": {},
   "outputs": [],
   "source": []
  }
 ],
 "metadata": {
  "kernelspec": {
   "display_name": "Python 3 (ipykernel)",
   "language": "python",
   "name": "python3"
  },
  "language_info": {
   "codemirror_mode": {
    "name": "ipython",
    "version": 3
   },
   "file_extension": ".py",
   "mimetype": "text/x-python",
   "name": "python",
   "nbconvert_exporter": "python",
   "pygments_lexer": "ipython3",
   "version": "3.10.12"
  }
 },
 "nbformat": 4,
 "nbformat_minor": 5
}
